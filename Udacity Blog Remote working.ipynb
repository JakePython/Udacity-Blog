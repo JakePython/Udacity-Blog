{
 "cells": [
  {
   "cell_type": "markdown",
   "metadata": {},
   "source": [
    "# Introduction"
   ]
  },
  {
   "cell_type": "markdown",
   "metadata": {},
   "source": [
    "A international company would like to market products to customers that develop from home and would like to know what the probability of someone working remotely is depending on the country that they are from. During the Covid-19 Pandemic the concept of remote working or working from home was not as common as it became during the pandemic. How common was it? Was this a global trend or was it more common in North America?\n",
    "The study takes the results from the Stack Overflow survey and breaks it down per 10 countries from 5 different continents."
   ]
  },
  {
   "cell_type": "markdown",
   "metadata": {},
   "source": [
    "# Question 1 "
   ]
  },
  {
   "cell_type": "markdown",
   "metadata": {},
   "source": [
    "Before the Covid-19 Pandemic, the concept of remote working was not as common as it became during the pandemic. How common was it? "
   ]
  },
  {
   "cell_type": "markdown",
   "metadata": {},
   "source": [
    "Business Understanding: First we import the necessary libraries and import the file to be used as the data. The first file is the survey results from the Stack Overflow survey. \n",
    "\n",
    "To understand the data better,  we will accept that, if an employee works more than half of their time remotely, it will be considered as remote work and if less than half, the employee will be considered as not working remotely.\n",
    "\n",
    "To clean and prepare the data, a new column will be created in the dataframe that will be updated from another column. "
   ]
  },
  {
   "cell_type": "code",
   "execution_count": 222,
   "metadata": {},
   "outputs": [],
   "source": [
    "#We import the necessary libraries\n",
    "import numpy as np\n",
    "import pandas as pd\n",
    "import matplotlib.pyplot as plt\n",
    "%matplotlib inline\n",
    "\n",
    "'''\n",
    "    INPUT - An Excel spreadsheet of the responses from the Stack overflow survey\n",
    "            \n",
    "    OUTPUT - df - pandas dataframe of the responses from the Stack overflow survey\n",
    "             df_emp_filt - A filtered dataframe that contains respondents that are employed or freelance\n",
    "    '''\n",
    "#Create a dataframe, one main table from the Excel sheet\n",
    "df = pd.read_excel('C:\\\\Users\\\\vdwaltjl\\\\OneDrive - Vodafone Group\\\\General\\\\Training and Studies\\\\Udacity Data Science\\\\survey-results-public_short.xlsx')"
   ]
  },
  {
   "cell_type": "markdown",
   "metadata": {},
   "source": [
    "Now that we have our data in a dataframe, we have to clean it. The first step is to remove the respondents that are not employed or retired. We don't filter out the N/A responses, seeing that there are respondents in the group that are employed, and removing them could make the results inacurate."
   ]
  },
  {
   "cell_type": "code",
   "execution_count": 224,
   "metadata": {},
   "outputs": [],
   "source": [
    "df_emp_filt = df[df.EmploymentStatus.isin([\"Independent contractor, freelancer, or self-employed\",\"Employed full-time\",\"Employed full-time\"])]"
   ]
  },
  {
   "cell_type": "markdown",
   "metadata": {},
   "source": [
    "The next step is to divide the respondents into two:\n",
    "    1) 'Half and more' is in one category, and\n",
    "    2)  the rest in 'Less than half'\n",
    "NA will be counted as less than half, seeing that the question is: \"How often do you work from home or remotely?\". A N/A response will be accepted as no remote working at all and placed in the second category.\n",
    "\n",
    "We do this split by creating a new column based on a condition. 'Half and more' is in one category and the rest in 'Less than half'\n",
    "\n",
    "We create an empty list to which we append with the new descriptions:"
   ]
  },
  {
   "cell_type": "code",
   "execution_count": 225,
   "metadata": {},
   "outputs": [],
   "source": [
    "'''\n",
    "    INPUT - df - pandas dataframe with the responses from the Stack overflow survey\n",
    "            column_name - HomeRemote - The respons e to the question: \"How often do you work from home or remotely?\"\"\n",
    "    OUTPUT - \n",
    "            Remote_percent - the name of the new column with the strings that divides \n",
    "            the 'HomeRemote'responses into two categories\n",
    "    '''\n",
    "Remote_perc = []\n",
    "for percentage in df_emp_filt['HomeRemote']:\n",
    "    if percentage in (\"About half the time\",\n",
    "        \"All or almost all the time (I'm full-time remote)\",\n",
    "        \"More than half, but not all, the time\") : Remote_perc.append('Half and more')\n",
    "        \n",
    "    else:   Remote_perc.append ('Less than half')"
   ]
  },
  {
   "cell_type": "markdown",
   "metadata": {},
   "source": [
    "The next step is to update the new column 'Remote_percent' with the new values."
   ]
  },
  {
   "cell_type": "code",
   "execution_count": 238,
   "metadata": {},
   "outputs": [],
   "source": [
    "df_emp_filt['Remote_percent'] = Remote_perc"
   ]
  },
  {
   "cell_type": "markdown",
   "metadata": {},
   "source": [
    "We run the analysis on the numbers with the 'value_counts' function and express it as a percentage:"
   ]
  },
  {
   "cell_type": "code",
   "execution_count": 228,
   "metadata": {},
   "outputs": [
    {
     "data": {
      "text/plain": [
       "Less than half    81.203934\n",
       "Half and more     18.796066\n",
       "Name: Remote_percent, dtype: float64"
      ]
     },
     "execution_count": 228,
     "metadata": {},
     "output_type": "execute_result"
    }
   ],
   "source": [
    "df_emp_filt['Remote_percent'].value_counts(normalize=True).mul(100)"
   ]
  },
  {
   "cell_type": "code",
   "execution_count": 229,
   "metadata": {},
   "outputs": [
    {
     "data": {
      "image/png": "[encoded data removed]",
      "text/plain": [
       "<Figure size 432x288 with 1 Axes>"
      ]
     },
     "metadata": {
      "needs_background": "light"
     },
     "output_type": "display_data"
    }
   ],
   "source": [
    "df_emp_filt['Remote_percent'].value_counts(normalize=True).mul(100).plot(kind='bar');\n",
    "plt.title(\"What percentage of respondents work from home?\");"
   ]
  },
  {
   "cell_type": "markdown",
   "metadata": {},
   "source": [
    "Evaluation: It is clear that, prior to Covid-19, the percentage of respondents are less than 20%, 18.8% exactly, that work half of their day or more from home."
   ]
  },
  {
   "cell_type": "markdown",
   "metadata": {},
   "source": [
    "# Question 2 "
   ]
  },
  {
   "cell_type": "markdown",
   "metadata": {},
   "source": [
    "Does the country or continent's culture have an impact on the percentage of respondents that work from home. Was this a global trend or was it more common in North America?\n",
    "\n",
    "In order to clean the data we will use only the 10 countries with the highest amount of repondents which is a sample of roughly 60% of the respondents."
   ]
  },
  {
   "cell_type": "markdown",
   "metadata": {},
   "source": [
    "Firstly, we determine the name of the top 10 countries with the highest amount of repondents, and filter them out of the main dataframe."
   ]
  },
  {
   "cell_type": "code",
   "execution_count": 230,
   "metadata": {},
   "outputs": [],
   "source": [
    "'''\n",
    "    INPUT - df - pandas dataframe with the responses from the Stack overflow survey\n",
    "            a list of countries that represent roughly 60% of the respondents\n",
    "    OUTPUT - \n",
    "            A table with two columns that contains the percentages of the totals of the 2 categories in a specific country\n",
    "    '''\n",
    "filt = df_emp_filt[df_emp_filt.Country.isin(['United States','India','United Kingdom','China','Brazil','Germany','Canada','Australia','Poland'])]"
   ]
  },
  {
   "cell_type": "markdown",
   "metadata": {},
   "source": [
    "We use the Pandas crosstab function to group and aggregate the data and calculate the percentage of respondants that work more than half of their time remotely from home. "
   ]
  },
  {
   "cell_type": "code",
   "execution_count": 232,
   "metadata": {},
   "outputs": [
    {
     "data": {
      "text/html": [
       "<div>\n",
       "<style scoped>\n",
       "    .dataframe tbody tr th:only-of-type {\n",
       "        vertical-align: middle;\n",
       "    }\n",
       "\n",
       "    .dataframe tbody tr th {\n",
       "        vertical-align: top;\n",
       "    }\n",
       "\n",
       "    .dataframe thead th {\n",
       "        text-align: right;\n",
       "    }\n",
       "</style>\n",
       "<table border=\"1\" class=\"dataframe\">\n",
       "  <thead>\n",
       "    <tr style=\"text-align: right;\">\n",
       "      <th>Remote_percent</th>\n",
       "      <th>Half and more</th>\n",
       "      <th>Less than half</th>\n",
       "    </tr>\n",
       "    <tr>\n",
       "      <th>Country</th>\n",
       "      <th></th>\n",
       "      <th></th>\n",
       "    </tr>\n",
       "  </thead>\n",
       "  <tbody>\n",
       "    <tr>\n",
       "      <th>Australia</th>\n",
       "      <td>18.243243</td>\n",
       "      <td>81.756757</td>\n",
       "    </tr>\n",
       "    <tr>\n",
       "      <th>Brazil</th>\n",
       "      <td>21.794872</td>\n",
       "      <td>78.205128</td>\n",
       "    </tr>\n",
       "    <tr>\n",
       "      <th>Canada</th>\n",
       "      <td>15.754561</td>\n",
       "      <td>84.245439</td>\n",
       "    </tr>\n",
       "    <tr>\n",
       "      <th>China</th>\n",
       "      <td>14.516129</td>\n",
       "      <td>85.483871</td>\n",
       "    </tr>\n",
       "    <tr>\n",
       "      <th>Germany</th>\n",
       "      <td>11.677215</td>\n",
       "      <td>88.322785</td>\n",
       "    </tr>\n",
       "    <tr>\n",
       "      <th>India</th>\n",
       "      <td>20.670391</td>\n",
       "      <td>79.329609</td>\n",
       "    </tr>\n",
       "    <tr>\n",
       "      <th>Poland</th>\n",
       "      <td>19.119119</td>\n",
       "      <td>80.880881</td>\n",
       "    </tr>\n",
       "    <tr>\n",
       "      <th>United Kingdom</th>\n",
       "      <td>13.580247</td>\n",
       "      <td>86.419753</td>\n",
       "    </tr>\n",
       "    <tr>\n",
       "      <th>United States</th>\n",
       "      <td>19.238414</td>\n",
       "      <td>80.761586</td>\n",
       "    </tr>\n",
       "    <tr>\n",
       "      <th>Total</th>\n",
       "      <td>17.399304</td>\n",
       "      <td>82.600696</td>\n",
       "    </tr>\n",
       "  </tbody>\n",
       "</table>\n",
       "</div>"
      ],
      "text/plain": [
       "Remote_percent  Half and more  Less than half\n",
       "Country                                      \n",
       "Australia           18.243243       81.756757\n",
       "Brazil              21.794872       78.205128\n",
       "Canada              15.754561       84.245439\n",
       "China               14.516129       85.483871\n",
       "Germany             11.677215       88.322785\n",
       "India               20.670391       79.329609\n",
       "Poland              19.119119       80.880881\n",
       "United Kingdom      13.580247       86.419753\n",
       "United States       19.238414       80.761586\n",
       "Total               17.399304       82.600696"
      ]
     },
     "execution_count": 232,
     "metadata": {},
     "output_type": "execute_result"
    }
   ],
   "source": [
    "Table=pd.crosstab(index= filt.Country, \n",
    "            columns= filt.Remote_percent, \n",
    "            values= filt.Country, \n",
    "            aggfunc = len, \n",
    "            margins=True,\n",
    "            margins_name='Total',\n",
    "            normalize= 'index').mul(100)\n",
    "Table"
   ]
  },
  {
   "cell_type": "code",
   "execution_count": 242,
   "metadata": {},
   "outputs": [
    {
     "data": {
      "text/plain": [
       "Remote_percent\n",
       "Half and more     float64\n",
       "Less than half    float64\n",
       "dtype: object"
      ]
     },
     "execution_count": 242,
     "metadata": {},
     "output_type": "execute_result"
    }
   ],
   "source": [
    "Table.dtypes"
   ]
  },
  {
   "cell_type": "code",
   "execution_count": 233,
   "metadata": {},
   "outputs": [],
   "source": [
    "Remote=Table[\"Half and more\"]# We choose the column that works remotely or from home 50% of the day or more"
   ]
  },
  {
   "cell_type": "code",
   "execution_count": 234,
   "metadata": {},
   "outputs": [
    {
     "data": {
      "image/png": "[encoded data removed]",
      "text/plain": [
       "<Figure size 432x288 with 1 Axes>"
      ]
     },
     "metadata": {
      "needs_background": "light"
     },
     "output_type": "display_data"
    }
   ],
   "source": [
    "Remote.plot(kind='bar')\n",
    "plt.title(\"What percentage of your country works from home?\");"
   ]
  },
  {
   "cell_type": "markdown",
   "metadata": {},
   "source": [
    "Evaluation: If we analize the data we notice that United States, Brazil, India and Poland are above the total for this Top 10 group of 17.4% and the total for the full group of countries which is 18.4%.\n",
    "\n",
    "The four countries that are above the average are on 4 different continents. Australia lies between the two totals of the group of 10 and the total group. The 5 that lie below are from the same continents as the 4 above the average.\n",
    "\n",
    "One can therefore safely say that there seems to be no relation between the continent that a respondent is from, although it seems if you combine United States and Canada it might be higher than the average of the 3 European countries in the study. This takes us to our next question:"
   ]
  },
  {
   "cell_type": "markdown",
   "metadata": {},
   "source": [
    "# Question 3"
   ]
  },
  {
   "cell_type": "markdown",
   "metadata": {},
   "source": [
    "Are the countries in Western Europe, Sweden, France, Italy, etc. less likely than a world average to allow workers to work remotely or from home?"
   ]
  },
  {
   "cell_type": "code",
   "execution_count": 235,
   "metadata": {},
   "outputs": [],
   "source": [
    "'''\n",
    "    INPUT - df - pandas dataframe with the responses from the Stack overflow survey\n",
    "            a list of countries that representroughly 60% of the respondents\n",
    "    OUTPUT - \n",
    "            A table with two columns that contains the percentages of the totals of the 2 categories within Western European countries\n",
    "'''\n",
    "filt2 = df_emp_filt[df_emp_filt.Country.isin([\"Austria\",\"Belgium\",\"Denmark\",\"Finland\",\"France\",\"Germany\",\"Italy\",\"Luxembourg\",\"Netherlands\",\"Norway\",\"Portugal\",\"Spain\",\"Sweden\",\"United Kingdom\"])]"
   ]
  },
  {
   "cell_type": "code",
   "execution_count": 236,
   "metadata": {},
   "outputs": [
    {
     "data": {
      "text/html": [
       "<div>\n",
       "<style scoped>\n",
       "    .dataframe tbody tr th:only-of-type {\n",
       "        vertical-align: middle;\n",
       "    }\n",
       "\n",
       "    .dataframe tbody tr th {\n",
       "        vertical-align: top;\n",
       "    }\n",
       "\n",
       "    .dataframe thead th {\n",
       "        text-align: right;\n",
       "    }\n",
       "</style>\n",
       "<table border=\"1\" class=\"dataframe\">\n",
       "  <thead>\n",
       "    <tr style=\"text-align: right;\">\n",
       "      <th>Remote_percent</th>\n",
       "      <th>Half and more</th>\n",
       "      <th>Less than half</th>\n",
       "    </tr>\n",
       "    <tr>\n",
       "      <th>Country</th>\n",
       "      <th></th>\n",
       "      <th></th>\n",
       "    </tr>\n",
       "  </thead>\n",
       "  <tbody>\n",
       "    <tr>\n",
       "      <th>Austria</th>\n",
       "      <td>14.782609</td>\n",
       "      <td>85.217391</td>\n",
       "    </tr>\n",
       "    <tr>\n",
       "      <th>Belgium</th>\n",
       "      <td>8.430233</td>\n",
       "      <td>91.569767</td>\n",
       "    </tr>\n",
       "    <tr>\n",
       "      <th>Denmark</th>\n",
       "      <td>10.788382</td>\n",
       "      <td>89.211618</td>\n",
       "    </tr>\n",
       "    <tr>\n",
       "      <th>Finland</th>\n",
       "      <td>21.428571</td>\n",
       "      <td>78.571429</td>\n",
       "    </tr>\n",
       "    <tr>\n",
       "      <th>France</th>\n",
       "      <td>15.255474</td>\n",
       "      <td>84.744526</td>\n",
       "    </tr>\n",
       "    <tr>\n",
       "      <th>Germany</th>\n",
       "      <td>11.677215</td>\n",
       "      <td>88.322785</td>\n",
       "    </tr>\n",
       "    <tr>\n",
       "      <th>Italy</th>\n",
       "      <td>21.690590</td>\n",
       "      <td>78.309410</td>\n",
       "    </tr>\n",
       "    <tr>\n",
       "      <th>Luxembourg</th>\n",
       "      <td>11.538462</td>\n",
       "      <td>88.461538</td>\n",
       "    </tr>\n",
       "    <tr>\n",
       "      <th>Netherlands</th>\n",
       "      <td>13.249211</td>\n",
       "      <td>86.750789</td>\n",
       "    </tr>\n",
       "    <tr>\n",
       "      <th>Norway</th>\n",
       "      <td>12.682927</td>\n",
       "      <td>87.317073</td>\n",
       "    </tr>\n",
       "    <tr>\n",
       "      <th>Portugal</th>\n",
       "      <td>17.061611</td>\n",
       "      <td>82.938389</td>\n",
       "    </tr>\n",
       "    <tr>\n",
       "      <th>Spain</th>\n",
       "      <td>16.198126</td>\n",
       "      <td>83.801874</td>\n",
       "    </tr>\n",
       "    <tr>\n",
       "      <th>Sweden</th>\n",
       "      <td>9.333333</td>\n",
       "      <td>90.666667</td>\n",
       "    </tr>\n",
       "    <tr>\n",
       "      <th>United Kingdom</th>\n",
       "      <td>13.580247</td>\n",
       "      <td>86.419753</td>\n",
       "    </tr>\n",
       "    <tr>\n",
       "      <th>Total</th>\n",
       "      <td>13.669180</td>\n",
       "      <td>86.330820</td>\n",
       "    </tr>\n",
       "  </tbody>\n",
       "</table>\n",
       "</div>"
      ],
      "text/plain": [
       "Remote_percent  Half and more  Less than half\n",
       "Country                                      \n",
       "Austria             14.782609       85.217391\n",
       "Belgium              8.430233       91.569767\n",
       "Denmark             10.788382       89.211618\n",
       "Finland             21.428571       78.571429\n",
       "France              15.255474       84.744526\n",
       "Germany             11.677215       88.322785\n",
       "Italy               21.690590       78.309410\n",
       "Luxembourg          11.538462       88.461538\n",
       "Netherlands         13.249211       86.750789\n",
       "Norway              12.682927       87.317073\n",
       "Portugal            17.061611       82.938389\n",
       "Spain               16.198126       83.801874\n",
       "Sweden               9.333333       90.666667\n",
       "United Kingdom      13.580247       86.419753\n",
       "Total               13.669180       86.330820"
      ]
     },
     "execution_count": 236,
     "metadata": {},
     "output_type": "execute_result"
    }
   ],
   "source": [
    "Table2=pd.crosstab(index= filt2.Country, \n",
    "            columns= filt2.Remote_percent, \n",
    "            values= filt2.Country, \n",
    "            aggfunc = len, \n",
    "            margins=True,\n",
    "            margins_name='Total',\n",
    "            normalize= 'index').mul(100)\n",
    "Table2"
   ]
  },
  {
   "cell_type": "code",
   "execution_count": 239,
   "metadata": {},
   "outputs": [
    {
     "data": {
      "image/png": "[encoded data removed]",
      "text/plain": [
       "<Figure size 432x288 with 1 Axes>"
      ]
     },
     "metadata": {
      "needs_background": "light"
     },
     "output_type": "display_data"
    }
   ],
   "source": [
    "Remote2=Table2[\"Half and more\"]\n",
    "Remote2.plot(kind='bar')\n",
    "plt.title(\"What percentage of Western Europe works from home?\");"
   ]
  },
  {
   "cell_type": "markdown",
   "metadata": {},
   "source": [
    "Evaluation: Althought the average of the Western European countries is less than the worldwide and Top 10 averages, one can clearly notice that some, e.g. Italy and Finland are well above the averages. It is therefore safe to say that Western Europe cannot be used to predict if less than average remote work is done. What may be possible to say that someone from Sweden is less likely to work from home, or remotely, than someone from Finland.\n",
    "\n",
    "It will be interesting to see after Covid-19, how the percentages will be affected.\n"
   ]
  }
 ],
 "metadata": {
  "kernelspec": {
   "display_name": "Python 3",
   "language": "python",
   "name": "python3"
  },
  "language_info": {
   "codemirror_mode": {
    "name": "ipython",
    "version": 3
   },
   "file_extension": ".py",
   "mimetype": "text/x-python",
   "name": "python",
   "nbconvert_exporter": "python",
   "pygments_lexer": "ipython3",
   "version": "3.8.5"
  }
 },
 "nbformat": 4,
 "nbformat_minor": 2
}
