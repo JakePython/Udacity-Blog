{
 "cells": [
  {
   "cell_type": "markdown",
   "metadata": {},
   "source": [
    "# Introduction"
   ]
  },
  {
   "cell_type": "markdown",
   "metadata": {},
   "source": [
    "A international company would like to market products to customers that work or develop from home or remotely, half of their time or more, and would like to know what the probability of someone working remotely is depending on the country that they are from. During the Covid-19 Pandemic the concept of remote working or working from home was not as common as it became during the pandemic. How common was it? Was this a global trend or was it more common in North America?\n",
    "The study takes the results from the Stack Overflow survey and breaks it down per 10 countries from 5 different continents."
   ]
  },
  {
   "cell_type": "markdown",
   "metadata": {},
   "source": [
    "## 1 Business Understanding\n",
    "\n",
    "Question 1 Before the Covid-19 Pandemic, the concept of remote working was not as common as it became during the pandemic. How common was it?\n",
    "\n",
    "Question 2 Does the continent's culture have an impact on the percentage of respondents that work from home. Was this a global trend or was it more common in North America?\n",
    "\n",
    "Question 3 Are the countries in Western Europe, Sweden, France, Italy, etc. less likely than a world average to allow workers to work remotely or from home?\n",
    "\n",
    "Question 4 Are Employment Status and Company Size indicators for working remotely?"
   ]
  },
  {
   "cell_type": "markdown",
   "metadata": {},
   "source": [
    "# 2 Data Understanding\n",
    "\n",
    "First, we gather the data from from the necessary files."
   ]
  },
  {
   "cell_type": "code",
   "execution_count": 463,
   "metadata": {},
   "outputs": [],
   "source": [
    "#We import the necessary libraries\n",
    "import numpy as np\n",
    "import pandas as pd\n",
    "import matplotlib.pyplot as plt\n",
    "from sklearn.linear_model import LinearRegression\n",
    "from sklearn.model_selection import train_test_split\n",
    "from sklearn.metrics import r2_score, mean_squared_error\n",
    "import seaborn as sns\n",
    "%matplotlib inline\n",
    "import patsy\n",
    "\n",
    "\n",
    "'''\n",
    "    INPUT - A shortened Excel spreadsheet of the responses from the Stack overflow survey\n",
    "            \n",
    "    OUTPUT - df - pandas dataframe of the responses from the Stack overflow survey\n",
    "             df_emp_filt - A filtered dataframe that contains respondents that are employed or freelance\n",
    "    '''\n",
    "#Create a dataframe, one main table from the Excel sheet\n",
    "df = pd.read_excel('C:\\\\Users\\\\vdwaltjl\\\\OneDrive - Vodafone Group\\\\General\\\\Training and Studies\\\\Udacity Data Science\\\\survey-results-public_short.xlsx')"
   ]
  },
  {
   "cell_type": "markdown",
   "metadata": {},
   "source": [
    "Now that we have our data in a dataframe, we have to understand it. Let's look at the first 5 lines."
   ]
  },
  {
   "cell_type": "code",
   "execution_count": 464,
   "metadata": {},
   "outputs": [
    {
     "data": {
      "text/html": [
       "<div>\n",
       "<style scoped>\n",
       "    .dataframe tbody tr th:only-of-type {\n",
       "        vertical-align: middle;\n",
       "    }\n",
       "\n",
       "    .dataframe tbody tr th {\n",
       "        vertical-align: top;\n",
       "    }\n",
       "\n",
       "    .dataframe thead th {\n",
       "        text-align: right;\n",
       "    }\n",
       "</style>\n",
       "<table border=\"1\" class=\"dataframe\">\n",
       "  <thead>\n",
       "    <tr style=\"text-align: right;\">\n",
       "      <th></th>\n",
       "      <th>Respondent</th>\n",
       "      <th>Professional</th>\n",
       "      <th>ProgramHobby</th>\n",
       "      <th>Country</th>\n",
       "      <th>University</th>\n",
       "      <th>EmploymentStatus</th>\n",
       "      <th>FormalEducation</th>\n",
       "      <th>MajorUndergrad</th>\n",
       "      <th>HomeRemote</th>\n",
       "      <th>CompanySize</th>\n",
       "      <th>...</th>\n",
       "      <th>YearsProgram</th>\n",
       "      <th>YearsCodedJob</th>\n",
       "      <th>YearsCodedJobPast</th>\n",
       "      <th>DeveloperType</th>\n",
       "      <th>WebDeveloperType</th>\n",
       "      <th>MobileDeveloperType</th>\n",
       "      <th>NonDeveloperType</th>\n",
       "      <th>CareerSatisfaction</th>\n",
       "      <th>JobSatisfaction</th>\n",
       "      <th>ExCoderReturn</th>\n",
       "    </tr>\n",
       "  </thead>\n",
       "  <tbody>\n",
       "    <tr>\n",
       "      <th>0</th>\n",
       "      <td>1</td>\n",
       "      <td>Student</td>\n",
       "      <td>Yes, both</td>\n",
       "      <td>United States</td>\n",
       "      <td>No</td>\n",
       "      <td>Not employed, and not looking for work</td>\n",
       "      <td>Secondary school</td>\n",
       "      <td>NaN</td>\n",
       "      <td>NaN</td>\n",
       "      <td>NaN</td>\n",
       "      <td>...</td>\n",
       "      <td>2 to 3 years</td>\n",
       "      <td>NaN</td>\n",
       "      <td>NaN</td>\n",
       "      <td>NaN</td>\n",
       "      <td>NaN</td>\n",
       "      <td>NaN</td>\n",
       "      <td>NaN</td>\n",
       "      <td>NaN</td>\n",
       "      <td>NaN</td>\n",
       "      <td>NaN</td>\n",
       "    </tr>\n",
       "    <tr>\n",
       "      <th>1</th>\n",
       "      <td>2</td>\n",
       "      <td>Student</td>\n",
       "      <td>Yes, both</td>\n",
       "      <td>United Kingdom</td>\n",
       "      <td>Yes, full-time</td>\n",
       "      <td>Employed part-time</td>\n",
       "      <td>Some college/university study without earning ...</td>\n",
       "      <td>Computer science or software engineering</td>\n",
       "      <td>More than half, but not all, the time</td>\n",
       "      <td>20 to 99 employees</td>\n",
       "      <td>...</td>\n",
       "      <td>9 to 10 years</td>\n",
       "      <td>NaN</td>\n",
       "      <td>NaN</td>\n",
       "      <td>NaN</td>\n",
       "      <td>NaN</td>\n",
       "      <td>NaN</td>\n",
       "      <td>NaN</td>\n",
       "      <td>NaN</td>\n",
       "      <td>NaN</td>\n",
       "      <td>NaN</td>\n",
       "    </tr>\n",
       "    <tr>\n",
       "      <th>2</th>\n",
       "      <td>3</td>\n",
       "      <td>Professional developer</td>\n",
       "      <td>Yes, both</td>\n",
       "      <td>United Kingdom</td>\n",
       "      <td>No</td>\n",
       "      <td>Employed full-time</td>\n",
       "      <td>Bachelor's degree</td>\n",
       "      <td>Computer science or software engineering</td>\n",
       "      <td>Less than half the time, but at least one day ...</td>\n",
       "      <td>10,000 or more employees</td>\n",
       "      <td>...</td>\n",
       "      <td>20 or more years</td>\n",
       "      <td>20 or more years</td>\n",
       "      <td>NaN</td>\n",
       "      <td>Other</td>\n",
       "      <td>NaN</td>\n",
       "      <td>NaN</td>\n",
       "      <td>NaN</td>\n",
       "      <td>8.0</td>\n",
       "      <td>9.0</td>\n",
       "      <td>NaN</td>\n",
       "    </tr>\n",
       "    <tr>\n",
       "      <th>3</th>\n",
       "      <td>4</td>\n",
       "      <td>Professional non-developer who sometimes write...</td>\n",
       "      <td>Yes, both</td>\n",
       "      <td>United States</td>\n",
       "      <td>No</td>\n",
       "      <td>Employed full-time</td>\n",
       "      <td>Doctoral degree</td>\n",
       "      <td>A non-computer-focused engineering discipline</td>\n",
       "      <td>Less than half the time, but at least one day ...</td>\n",
       "      <td>10,000 or more employees</td>\n",
       "      <td>...</td>\n",
       "      <td>14 to 15 years</td>\n",
       "      <td>9 to 10 years</td>\n",
       "      <td>NaN</td>\n",
       "      <td>NaN</td>\n",
       "      <td>NaN</td>\n",
       "      <td>NaN</td>\n",
       "      <td>Data scientist</td>\n",
       "      <td>6.0</td>\n",
       "      <td>3.0</td>\n",
       "      <td>NaN</td>\n",
       "    </tr>\n",
       "    <tr>\n",
       "      <th>4</th>\n",
       "      <td>5</td>\n",
       "      <td>Professional developer</td>\n",
       "      <td>Yes, I program as a hobby</td>\n",
       "      <td>Switzerland</td>\n",
       "      <td>No</td>\n",
       "      <td>Employed full-time</td>\n",
       "      <td>Master's degree</td>\n",
       "      <td>Computer science or software engineering</td>\n",
       "      <td>Never</td>\n",
       "      <td>10 to 19 employees</td>\n",
       "      <td>...</td>\n",
       "      <td>20 or more years</td>\n",
       "      <td>10 to 11 years</td>\n",
       "      <td>NaN</td>\n",
       "      <td>Mobile developer</td>\n",
       "      <td>NaN</td>\n",
       "      <td>NaN</td>\n",
       "      <td>NaN</td>\n",
       "      <td>NaN</td>\n",
       "      <td>NaN</td>\n",
       "      <td>NaN</td>\n",
       "    </tr>\n",
       "  </tbody>\n",
       "</table>\n",
       "<p>5 rows × 21 columns</p>\n",
       "</div>"
      ],
      "text/plain": [
       "   Respondent                                       Professional  \\\n",
       "0           1                                            Student   \n",
       "1           2                                            Student   \n",
       "2           3                             Professional developer   \n",
       "3           4  Professional non-developer who sometimes write...   \n",
       "4           5                             Professional developer   \n",
       "\n",
       "                ProgramHobby         Country      University  \\\n",
       "0                  Yes, both   United States              No   \n",
       "1                  Yes, both  United Kingdom  Yes, full-time   \n",
       "2                  Yes, both  United Kingdom              No   \n",
       "3                  Yes, both   United States              No   \n",
       "4  Yes, I program as a hobby     Switzerland              No   \n",
       "\n",
       "                         EmploymentStatus  \\\n",
       "0  Not employed, and not looking for work   \n",
       "1                      Employed part-time   \n",
       "2                      Employed full-time   \n",
       "3                      Employed full-time   \n",
       "4                      Employed full-time   \n",
       "\n",
       "                                     FormalEducation  \\\n",
       "0                                   Secondary school   \n",
       "1  Some college/university study without earning ...   \n",
       "2                                  Bachelor's degree   \n",
       "3                                    Doctoral degree   \n",
       "4                                    Master's degree   \n",
       "\n",
       "                                  MajorUndergrad  \\\n",
       "0                                            NaN   \n",
       "1       Computer science or software engineering   \n",
       "2       Computer science or software engineering   \n",
       "3  A non-computer-focused engineering discipline   \n",
       "4       Computer science or software engineering   \n",
       "\n",
       "                                          HomeRemote  \\\n",
       "0                                                NaN   \n",
       "1              More than half, but not all, the time   \n",
       "2  Less than half the time, but at least one day ...   \n",
       "3  Less than half the time, but at least one day ...   \n",
       "4                                              Never   \n",
       "\n",
       "                CompanySize  ...      YearsProgram     YearsCodedJob  \\\n",
       "0                       NaN  ...      2 to 3 years               NaN   \n",
       "1        20 to 99 employees  ...     9 to 10 years               NaN   \n",
       "2  10,000 or more employees  ...  20 or more years  20 or more years   \n",
       "3  10,000 or more employees  ...    14 to 15 years     9 to 10 years   \n",
       "4        10 to 19 employees  ...  20 or more years    10 to 11 years   \n",
       "\n",
       "  YearsCodedJobPast     DeveloperType WebDeveloperType MobileDeveloperType  \\\n",
       "0               NaN               NaN              NaN                 NaN   \n",
       "1               NaN               NaN              NaN                 NaN   \n",
       "2               NaN             Other              NaN                 NaN   \n",
       "3               NaN               NaN              NaN                 NaN   \n",
       "4               NaN  Mobile developer              NaN                 NaN   \n",
       "\n",
       "  NonDeveloperType CareerSatisfaction  JobSatisfaction  ExCoderReturn  \n",
       "0              NaN                NaN              NaN            NaN  \n",
       "1              NaN                NaN              NaN            NaN  \n",
       "2              NaN                8.0              9.0            NaN  \n",
       "3   Data scientist                6.0              3.0            NaN  \n",
       "4              NaN                NaN              NaN            NaN  \n",
       "\n",
       "[5 rows x 21 columns]"
      ]
     },
     "execution_count": 464,
     "metadata": {},
     "output_type": "execute_result"
    }
   ],
   "source": [
    "df.head()"
   ]
  },
  {
   "cell_type": "markdown",
   "metadata": {},
   "source": [
    "Let us have a look how many rows and columns our dataframe has."
   ]
  },
  {
   "cell_type": "code",
   "execution_count": 465,
   "metadata": {},
   "outputs": [
    {
     "data": {
      "text/plain": [
       "(51392, 21)"
      ]
     },
     "execution_count": 465,
     "metadata": {},
     "output_type": "execute_result"
    }
   ],
   "source": [
    "df.shape"
   ]
  },
  {
   "cell_type": "markdown",
   "metadata": {},
   "source": [
    "We take a look at our dataframe with df.describe() to see which columns are numerical, seeing that we need to know which columns can be used for our model at the end of the study. A machine learning model can only work with numerical columns without NA rows."
   ]
  },
  {
   "cell_type": "code",
   "execution_count": 466,
   "metadata": {},
   "outputs": [
    {
     "data": {
      "text/html": [
       "<div>\n",
       "<style scoped>\n",
       "    .dataframe tbody tr th:only-of-type {\n",
       "        vertical-align: middle;\n",
       "    }\n",
       "\n",
       "    .dataframe tbody tr th {\n",
       "        vertical-align: top;\n",
       "    }\n",
       "\n",
       "    .dataframe thead th {\n",
       "        text-align: right;\n",
       "    }\n",
       "</style>\n",
       "<table border=\"1\" class=\"dataframe\">\n",
       "  <thead>\n",
       "    <tr style=\"text-align: right;\">\n",
       "      <th></th>\n",
       "      <th>Respondent</th>\n",
       "      <th>CareerSatisfaction</th>\n",
       "      <th>JobSatisfaction</th>\n",
       "    </tr>\n",
       "  </thead>\n",
       "  <tbody>\n",
       "    <tr>\n",
       "      <th>count</th>\n",
       "      <td>51392.000000</td>\n",
       "      <td>21792.000000</td>\n",
       "      <td>20078.000000</td>\n",
       "    </tr>\n",
       "    <tr>\n",
       "      <th>mean</th>\n",
       "      <td>25696.500000</td>\n",
       "      <td>7.161757</td>\n",
       "      <td>6.869409</td>\n",
       "    </tr>\n",
       "    <tr>\n",
       "      <th>std</th>\n",
       "      <td>14835.736854</td>\n",
       "      <td>2.025726</td>\n",
       "      <td>2.194320</td>\n",
       "    </tr>\n",
       "    <tr>\n",
       "      <th>min</th>\n",
       "      <td>1.000000</td>\n",
       "      <td>0.000000</td>\n",
       "      <td>0.000000</td>\n",
       "    </tr>\n",
       "    <tr>\n",
       "      <th>25%</th>\n",
       "      <td>12848.750000</td>\n",
       "      <td>6.000000</td>\n",
       "      <td>6.000000</td>\n",
       "    </tr>\n",
       "    <tr>\n",
       "      <th>50%</th>\n",
       "      <td>25696.500000</td>\n",
       "      <td>7.000000</td>\n",
       "      <td>7.000000</td>\n",
       "    </tr>\n",
       "    <tr>\n",
       "      <th>75%</th>\n",
       "      <td>38544.250000</td>\n",
       "      <td>8.000000</td>\n",
       "      <td>8.000000</td>\n",
       "    </tr>\n",
       "    <tr>\n",
       "      <th>max</th>\n",
       "      <td>51392.000000</td>\n",
       "      <td>10.000000</td>\n",
       "      <td>10.000000</td>\n",
       "    </tr>\n",
       "  </tbody>\n",
       "</table>\n",
       "</div>"
      ],
      "text/plain": [
       "         Respondent  CareerSatisfaction  JobSatisfaction\n",
       "count  51392.000000        21792.000000     20078.000000\n",
       "mean   25696.500000            7.161757         6.869409\n",
       "std    14835.736854            2.025726         2.194320\n",
       "min        1.000000            0.000000         0.000000\n",
       "25%    12848.750000            6.000000         6.000000\n",
       "50%    25696.500000            7.000000         7.000000\n",
       "75%    38544.250000            8.000000         8.000000\n",
       "max    51392.000000           10.000000        10.000000"
      ]
     },
     "execution_count": 466,
     "metadata": {},
     "output_type": "execute_result"
    }
   ],
   "source": [
    "df.describe()"
   ]
  },
  {
   "cell_type": "markdown",
   "metadata": {},
   "source": [
    "We have a look at the info of the dataframe and we notice that there are data missing from the main three columns that will be used for the study. HomeRemote, EmploymentStatus and CompanySize, do not have the full 51392 rows, but Country and EmploymentStatus have."
   ]
  },
  {
   "cell_type": "code",
   "execution_count": 467,
   "metadata": {},
   "outputs": [
    {
     "name": "stdout",
     "output_type": "stream",
     "text": [
      "<class 'pandas.core.frame.DataFrame'>\n",
      "RangeIndex: 51392 entries, 0 to 51391\n",
      "Data columns (total 21 columns):\n",
      " #   Column               Non-Null Count  Dtype  \n",
      "---  ------               --------------  -----  \n",
      " 0   Respondent           51392 non-null  int64  \n",
      " 1   Professional         51392 non-null  object \n",
      " 2   ProgramHobby         51392 non-null  object \n",
      " 3   Country              51392 non-null  object \n",
      " 4   University           51392 non-null  object \n",
      " 5   EmploymentStatus     51392 non-null  object \n",
      " 6   FormalEducation      51392 non-null  object \n",
      " 7   MajorUndergrad       42841 non-null  object \n",
      " 8   HomeRemote           44008 non-null  object \n",
      " 9   CompanySize          38922 non-null  object \n",
      " 10  CompanyType          38823 non-null  object \n",
      " 11  YearsProgram         51145 non-null  object \n",
      " 12  YearsCodedJob        40890 non-null  object \n",
      " 13  YearsCodedJobPast    974 non-null    object \n",
      " 14  DeveloperType        36125 non-null  object \n",
      " 15  WebDeveloperType     10688 non-null  object \n",
      " 16  MobileDeveloperType  1552 non-null   object \n",
      " 17  NonDeveloperType     4889 non-null   object \n",
      " 18  CareerSatisfaction   21792 non-null  float64\n",
      " 19  JobSatisfaction      20078 non-null  float64\n",
      " 20  ExCoderReturn        922 non-null    object \n",
      "dtypes: float64(2), int64(1), object(18)\n",
      "memory usage: 8.2+ MB\n"
     ]
    }
   ],
   "source": [
    "df.info()"
   ]
  },
  {
   "cell_type": "markdown",
   "metadata": {},
   "source": [
    "What percentage of the data is missing in the columns?  This will help us decide whether a full column can be dropped. Below we notice that HomeRemote has 14.367% missing. None of the columns that we are looking at have enough data missing for us to drop it."
   ]
  },
  {
   "cell_type": "code",
   "execution_count": 468,
   "metadata": {},
   "outputs": [
    {
     "data": {
      "text/plain": [
       "Respondent           0.000000\n",
       "Professional         0.000000\n",
       "ProgramHobby         0.000000\n",
       "Country              0.000000\n",
       "University           0.000000\n",
       "EmploymentStatus     0.000000\n",
       "FormalEducation      0.000000\n",
       "MajorUndergrad      16.638776\n",
       "HomeRemote          14.367995\n",
       "CompanySize         24.264477\n",
       "dtype: float64"
      ]
     },
     "execution_count": 468,
     "metadata": {},
     "output_type": "execute_result"
    }
   ],
   "source": [
    "#We use the isnull method to determine the amount of NA rows and divide it by the total amount of rows \n",
    "percent_missing = df.isnull().sum() * 100 / len(df)\n",
    "percent_missing[:10]"
   ]
  },
  {
   "cell_type": "markdown",
   "metadata": {},
   "source": [
    "The next step is to remove the respondents that are not employed or retired. It's not advisable to drop rows, but in this case the data is not applicable. Someone that is retired and working from home, is not in scope for this requirement.\n",
    "We don't filter out all the N/A responses, seeing that there are respondents in the group that are employed, and removing them could make the results inacurate. We should look at filling those values for our model."
   ]
  },
  {
   "cell_type": "code",
   "execution_count": 469,
   "metadata": {},
   "outputs": [],
   "source": [
    "#We filter out the retired and unemployed and create a new dataframe, df_emp_filt \n",
    "df_emp_filt = df[df.EmploymentStatus.isin([\"Independent contractor, freelancer, or self-employed\",\"Employed full-time\",\"Employed part-time\"])]"
   ]
  },
  {
   "cell_type": "markdown",
   "metadata": {},
   "source": [
    "We run the missing percent query again and we look at the results."
   ]
  },
  {
   "cell_type": "code",
   "execution_count": 470,
   "metadata": {},
   "outputs": [
    {
     "data": {
      "text/plain": [
       "Respondent           0.000000\n",
       "Professional         0.000000\n",
       "ProgramHobby         0.000000\n",
       "Country              0.000000\n",
       "University           0.000000\n",
       "EmploymentStatus     0.000000\n",
       "FormalEducation      0.000000\n",
       "MajorUndergrad      10.971477\n",
       "HomeRemote           1.267925\n",
       "CompanySize         12.665784\n",
       "dtype: float64"
      ]
     },
     "execution_count": 470,
     "metadata": {},
     "output_type": "execute_result"
    }
   ],
   "source": [
    "percent_missing = df_emp_filt.isnull().sum() * 100 / len(df_emp_filt)\n",
    "percent_missing[:10]"
   ]
  },
  {
   "cell_type": "markdown",
   "metadata": {},
   "source": [
    "From the query above we can notice that missing percentage of the HomeRemote column is now down to 1.26 percent. We will see in the next section how we will handle this 1.26 percent. "
   ]
  },
  {
   "cell_type": "markdown",
   "metadata": {},
   "source": [
    "\n",
    "# 3. Prepare the data\n",
    "\n",
    "To clean and prepare the data, a new column will be created in the dataframe that will be updated from another columnbased on a condition.\n",
    "\n",
    "We divide the respondents into two:\n",
    "    1) 'Half and more' is in one category, and\n",
    "    2)  the rest in 'Less than half'\n",
    "\n",
    "NA will be counted as less than half (which we saw above is only 1.26%), seeing that the question is: \"How often do you work from home or remotely?\". A N/A response will be accepted as no remote working at all and placed in the second category, and will therefore be imputed with \"Less than half\". \n",
    "\n",
    "We will call this column 'Remote Percent' which will refer to the percentage of time working remotely. We will use this column during our study instead of 'HomeRemote'.\n",
    "\n",
    "We create an empty list to which we append with the new descriptions:"
   ]
  },
  {
   "cell_type": "code",
   "execution_count": 471,
   "metadata": {},
   "outputs": [],
   "source": [
    "'''\n",
    "    INPUT  - df - pandas dataframe with the responses from the Stack overflow survey\n",
    "             column_name - HomeRemote - The respons e to the question: \"How often do you work from home or remotely?\"\"\n",
    "    OUTPUT - Remote_percent - the name of the new column with the strings that divides \n",
    "             the 'HomeRemote'responses into two categories\n",
    "    '''\n",
    "Remote_perc = []\n",
    "for percentage in df_emp_filt['HomeRemote']:\n",
    "    if percentage in (\"About half the time\",\n",
    "        \"All or almost all the time (I'm full-time remote)\",\n",
    "        \"More than half, but not all, the time\") : Remote_perc.append('Half and more')\n",
    "        \n",
    "    else:   Remote_perc.append ('Less than half')"
   ]
  },
  {
   "cell_type": "code",
   "execution_count": 472,
   "metadata": {},
   "outputs": [],
   "source": [
    "#Remote_perc"
   ]
  },
  {
   "cell_type": "markdown",
   "metadata": {},
   "source": [
    "The next step is to update the new column 'Remote_percent' with the new values. A warning is given, but the column is updated correctly."
   ]
  },
  {
   "cell_type": "code",
   "execution_count": 473,
   "metadata": {},
   "outputs": [
    {
     "name": "stderr",
     "output_type": "stream",
     "text": [
      "<ipython-input-473-c7a12b84832d>:1: SettingWithCopyWarning: \n",
      "A value is trying to be set on a copy of a slice from a DataFrame.\n",
      "Try using .loc[row_indexer,col_indexer] = value instead\n",
      "\n",
      "See the caveats in the documentation: https://pandas.pydata.org/pandas-docs/stable/user_guide/indexing.html#returning-a-view-versus-a-copy\n",
      "  df_emp_filt['Remote_percent'] = Remote_perc\n"
     ]
    }
   ],
   "source": [
    "df_emp_filt['Remote_percent'] = Remote_perc"
   ]
  },
  {
   "cell_type": "markdown",
   "metadata": {},
   "source": [
    "# 4. Evaluation\n",
    "\n",
    "# Question 1\n",
    "\n",
    "Before the Covid-19 Pandemic, the concept of remote working was not as common as it became during the pandemic. How common was it?\n",
    "\n",
    "To prepare the data, a new column will be created in the dataframe that will be updated from another column."
   ]
  },
  {
   "cell_type": "markdown",
   "metadata": {},
   "source": [
    "We run the analysis on the numbers with the 'value_counts' function and express it as a percentage:"
   ]
  },
  {
   "cell_type": "code",
   "execution_count": 474,
   "metadata": {},
   "outputs": [
    {
     "data": {
      "text/plain": [
       "Less than half    80.752227\n",
       "Half and more     19.247773\n",
       "Name: Remote_percent, dtype: float64"
      ]
     },
     "execution_count": 474,
     "metadata": {},
     "output_type": "execute_result"
    }
   ],
   "source": [
    "df_emp_filt['Remote_percent'].value_counts(normalize=True).mul(100)"
   ]
  },
  {
   "cell_type": "code",
   "execution_count": 475,
   "metadata": {},
   "outputs": [
    {
     "data": {
      "image/png": "[encoded data removed]",
      "text/plain": [
       "<Figure size 432x288 with 1 Axes>"
      ]
     },
     "metadata": {
      "needs_background": "light"
     },
     "output_type": "display_data"
    }
   ],
   "source": [
    "df_emp_filt['Remote_percent'].value_counts(normalize=True).mul(100).plot(kind='bar');\n",
    "plt.title(\"What percentage of respondents work from home?\");\n",
    "plt.ylabel('Percentage');"
   ]
  },
  {
   "cell_type": "markdown",
   "metadata": {},
   "source": [
    "Evaluation: It is clear that, prior to Covid-19, the percentage of respondents are less than 20%, 18.8% exactly, that work half of their day or more from home."
   ]
  },
  {
   "cell_type": "markdown",
   "metadata": {},
   "source": [
    "# Question 2 "
   ]
  },
  {
   "cell_type": "markdown",
   "metadata": {},
   "source": [
    "Does the continent's culture have an impact on the percentage of respondents that work from home. Was this a global trend?\n",
    "\n",
    "In order to prepare the data we will use only the 9 countries with the highest amount of repondents which is a sample of roughly 60% of the respondents."
   ]
  },
  {
   "cell_type": "markdown",
   "metadata": {},
   "source": [
    "    Firstly, we determine the name of the top 10 countries with the highest amount of respondents, and filter them out of the main dataframe."
   ]
  },
  {
   "cell_type": "code",
   "execution_count": 476,
   "metadata": {},
   "outputs": [],
   "source": [
    "'''\n",
    "    INPUT - df - pandas dataframe with the responses from the Stack overflow survey\n",
    "            a list of countries that represent roughly 60% of the respondents\n",
    "    OUTPUT - \n",
    "            A table with two columns that contains the percentages of the totals of the 2 categories in a specific country\n",
    "    '''\n",
    "filt = df_emp_filt[df_emp_filt.Country.isin(['United States','India','United Kingdom','China','Brazil','Germany','Canada','Australia','Poland'])]"
   ]
  },
  {
   "cell_type": "markdown",
   "metadata": {},
   "source": [
    "We use the Pandas crosstab function to group and aggregate the data and calculate the percentage of respondents that work more than half of their time remotely from home. "
   ]
  },
  {
   "cell_type": "code",
   "execution_count": 477,
   "metadata": {},
   "outputs": [
    {
     "data": {
      "text/html": [
       "<div>\n",
       "<style scoped>\n",
       "    .dataframe tbody tr th:only-of-type {\n",
       "        vertical-align: middle;\n",
       "    }\n",
       "\n",
       "    .dataframe tbody tr th {\n",
       "        vertical-align: top;\n",
       "    }\n",
       "\n",
       "    .dataframe thead th {\n",
       "        text-align: right;\n",
       "    }\n",
       "</style>\n",
       "<table border=\"1\" class=\"dataframe\">\n",
       "  <thead>\n",
       "    <tr style=\"text-align: right;\">\n",
       "      <th>Remote_percent</th>\n",
       "      <th>Half and more</th>\n",
       "      <th>Less than half</th>\n",
       "    </tr>\n",
       "    <tr>\n",
       "      <th>Country</th>\n",
       "      <th></th>\n",
       "      <th></th>\n",
       "    </tr>\n",
       "  </thead>\n",
       "  <tbody>\n",
       "    <tr>\n",
       "      <th>Australia</th>\n",
       "      <td>18.239796</td>\n",
       "      <td>81.760204</td>\n",
       "    </tr>\n",
       "    <tr>\n",
       "      <th>Brazil</th>\n",
       "      <td>22.270742</td>\n",
       "      <td>77.729258</td>\n",
       "    </tr>\n",
       "    <tr>\n",
       "      <th>Canada</th>\n",
       "      <td>16.640827</td>\n",
       "      <td>83.359173</td>\n",
       "    </tr>\n",
       "    <tr>\n",
       "      <th>China</th>\n",
       "      <td>14.893617</td>\n",
       "      <td>85.106383</td>\n",
       "    </tr>\n",
       "    <tr>\n",
       "      <th>Germany</th>\n",
       "      <td>12.658913</td>\n",
       "      <td>87.341087</td>\n",
       "    </tr>\n",
       "    <tr>\n",
       "      <th>India</th>\n",
       "      <td>21.097245</td>\n",
       "      <td>78.902755</td>\n",
       "    </tr>\n",
       "    <tr>\n",
       "      <th>Poland</th>\n",
       "      <td>18.876207</td>\n",
       "      <td>81.123793</td>\n",
       "    </tr>\n",
       "    <tr>\n",
       "      <th>United Kingdom</th>\n",
       "      <td>14.023457</td>\n",
       "      <td>85.976543</td>\n",
       "    </tr>\n",
       "    <tr>\n",
       "      <th>United States</th>\n",
       "      <td>19.533327</td>\n",
       "      <td>80.466673</td>\n",
       "    </tr>\n",
       "    <tr>\n",
       "      <th>Total</th>\n",
       "      <td>17.786665</td>\n",
       "      <td>82.213335</td>\n",
       "    </tr>\n",
       "  </tbody>\n",
       "</table>\n",
       "</div>"
      ],
      "text/plain": [
       "Remote_percent  Half and more  Less than half\n",
       "Country                                      \n",
       "Australia           18.239796       81.760204\n",
       "Brazil              22.270742       77.729258\n",
       "Canada              16.640827       83.359173\n",
       "China               14.893617       85.106383\n",
       "Germany             12.658913       87.341087\n",
       "India               21.097245       78.902755\n",
       "Poland              18.876207       81.123793\n",
       "United Kingdom      14.023457       85.976543\n",
       "United States       19.533327       80.466673\n",
       "Total               17.786665       82.213335"
      ]
     },
     "execution_count": 477,
     "metadata": {},
     "output_type": "execute_result"
    }
   ],
   "source": [
    "Table=pd.crosstab(index= filt.Country, \n",
    "            columns= filt.Remote_percent, \n",
    "            values= filt.Country, \n",
    "            aggfunc = len, \n",
    "            margins=True,\n",
    "            margins_name='Total',\n",
    "            normalize= 'index').mul(100)\n",
    "Table"
   ]
  },
  {
   "cell_type": "markdown",
   "metadata": {},
   "source": [
    "We are going to look at a plot of only the column 50% of the day or more"
   ]
  },
  {
   "cell_type": "code",
   "execution_count": 478,
   "metadata": {},
   "outputs": [],
   "source": [
    "# We choose the column that works remotely or from home 50% of the day or more\n",
    "Remote=Table[\"Half and more\"]"
   ]
  },
  {
   "cell_type": "code",
   "execution_count": 479,
   "metadata": {},
   "outputs": [
    {
     "data": {
      "image/png": "[encoded data removed]",
      "text/plain": [
       "<Figure size 432x288 with 1 Axes>"
      ]
     },
     "metadata": {
      "needs_background": "light"
     },
     "output_type": "display_data"
    }
   ],
   "source": [
    "#We plot a bar chart of \n",
    "Remote.plot(kind='bar')\n",
    "plt.title(\"What percentage of your country work from home?\");\n",
    "plt.ylabel('Percentage');"
   ]
  },
  {
   "cell_type": "markdown",
   "metadata": {},
   "source": [
    "Evaluation: If we analyze the data we notice that United States, Brazil, India and Poland are above the total for this Top 10 group of 17.4% and the total for the full group of countries which is 18.4%.\n",
    "\n",
    "The four countries that are above the average are on 4 different continents. Australia lies between the two totals of the group of 10 and the total group. The 5 that lie below are from the same continents as the 4 above the average.\n",
    "\n",
    "One can therefore safely say that there seems to be no relation between the continent that a respondent is from, although it seems if you combine United States and Canada it might be higher than the average of the 3 European countries in the study. This takes us to our next question:"
   ]
  },
  {
   "cell_type": "markdown",
   "metadata": {},
   "source": [
    "# Question 3"
   ]
  },
  {
   "cell_type": "markdown",
   "metadata": {},
   "source": [
    "Are the countries in Western Europe, Sweden, France, Italy, etc. less likely than a world average to allow workers to work remotely or from home?"
   ]
  },
  {
   "cell_type": "markdown",
   "metadata": {},
   "source": [
    "In the next analysis, 14 countries from Western Europe are analyzed to see if there is a correlation between the country that you're from to working remotely."
   ]
  },
  {
   "cell_type": "code",
   "execution_count": 480,
   "metadata": {},
   "outputs": [],
   "source": [
    "'''\n",
    "    INPUT - df - pandas dataframe with the responses from the Stack overflow survey\n",
    "            a list of countries that representroughly 60% of the respondents\n",
    "    OUTPUT - \n",
    "            A table with two columns that contains the percentages of the totals of the 2 categories within Western European countries\n",
    "'''\n",
    "filt2 = df_emp_filt[df_emp_filt.Country.isin([\"Austria\",\"Belgium\",\"Denmark\",\"Finland\",\"France\",\"Germany\",\"Italy\",\"Luxembourg\",\"Netherlands\",\"Norway\",\"Portugal\",\"Spain\",\"Sweden\",\"United Kingdom\"])]"
   ]
  },
  {
   "cell_type": "code",
   "execution_count": 481,
   "metadata": {},
   "outputs": [
    {
     "data": {
      "text/html": [
       "<div>\n",
       "<style scoped>\n",
       "    .dataframe tbody tr th:only-of-type {\n",
       "        vertical-align: middle;\n",
       "    }\n",
       "\n",
       "    .dataframe tbody tr th {\n",
       "        vertical-align: top;\n",
       "    }\n",
       "\n",
       "    .dataframe thead th {\n",
       "        text-align: right;\n",
       "    }\n",
       "</style>\n",
       "<table border=\"1\" class=\"dataframe\">\n",
       "  <thead>\n",
       "    <tr style=\"text-align: right;\">\n",
       "      <th>Remote_percent</th>\n",
       "      <th>Half and more</th>\n",
       "      <th>Less than half</th>\n",
       "    </tr>\n",
       "    <tr>\n",
       "      <th>Country</th>\n",
       "      <th></th>\n",
       "      <th></th>\n",
       "    </tr>\n",
       "  </thead>\n",
       "  <tbody>\n",
       "    <tr>\n",
       "      <th>Austria</th>\n",
       "      <td>14.797136</td>\n",
       "      <td>85.202864</td>\n",
       "    </tr>\n",
       "    <tr>\n",
       "      <th>Belgium</th>\n",
       "      <td>8.146067</td>\n",
       "      <td>91.853933</td>\n",
       "    </tr>\n",
       "    <tr>\n",
       "      <th>Denmark</th>\n",
       "      <td>12.030075</td>\n",
       "      <td>87.969925</td>\n",
       "    </tr>\n",
       "    <tr>\n",
       "      <th>Finland</th>\n",
       "      <td>20.564516</td>\n",
       "      <td>79.435484</td>\n",
       "    </tr>\n",
       "    <tr>\n",
       "      <th>France</th>\n",
       "      <td>14.930325</td>\n",
       "      <td>85.069675</td>\n",
       "    </tr>\n",
       "    <tr>\n",
       "      <th>Germany</th>\n",
       "      <td>12.658913</td>\n",
       "      <td>87.341087</td>\n",
       "    </tr>\n",
       "    <tr>\n",
       "      <th>Italy</th>\n",
       "      <td>22.324159</td>\n",
       "      <td>77.675841</td>\n",
       "    </tr>\n",
       "    <tr>\n",
       "      <th>Luxembourg</th>\n",
       "      <td>10.344828</td>\n",
       "      <td>89.655172</td>\n",
       "    </tr>\n",
       "    <tr>\n",
       "      <th>Netherlands</th>\n",
       "      <td>13.458950</td>\n",
       "      <td>86.541050</td>\n",
       "    </tr>\n",
       "    <tr>\n",
       "      <th>Norway</th>\n",
       "      <td>13.777778</td>\n",
       "      <td>86.222222</td>\n",
       "    </tr>\n",
       "    <tr>\n",
       "      <th>Portugal</th>\n",
       "      <td>17.511521</td>\n",
       "      <td>82.488479</td>\n",
       "    </tr>\n",
       "    <tr>\n",
       "      <th>Spain</th>\n",
       "      <td>16.434893</td>\n",
       "      <td>83.565107</td>\n",
       "    </tr>\n",
       "    <tr>\n",
       "      <th>Sweden</th>\n",
       "      <td>10.370370</td>\n",
       "      <td>89.629630</td>\n",
       "    </tr>\n",
       "    <tr>\n",
       "      <th>United Kingdom</th>\n",
       "      <td>14.023457</td>\n",
       "      <td>85.976543</td>\n",
       "    </tr>\n",
       "    <tr>\n",
       "      <th>Total</th>\n",
       "      <td>14.110475</td>\n",
       "      <td>85.889525</td>\n",
       "    </tr>\n",
       "  </tbody>\n",
       "</table>\n",
       "</div>"
      ],
      "text/plain": [
       "Remote_percent  Half and more  Less than half\n",
       "Country                                      \n",
       "Austria             14.797136       85.202864\n",
       "Belgium              8.146067       91.853933\n",
       "Denmark             12.030075       87.969925\n",
       "Finland             20.564516       79.435484\n",
       "France              14.930325       85.069675\n",
       "Germany             12.658913       87.341087\n",
       "Italy               22.324159       77.675841\n",
       "Luxembourg          10.344828       89.655172\n",
       "Netherlands         13.458950       86.541050\n",
       "Norway              13.777778       86.222222\n",
       "Portugal            17.511521       82.488479\n",
       "Spain               16.434893       83.565107\n",
       "Sweden              10.370370       89.629630\n",
       "United Kingdom      14.023457       85.976543\n",
       "Total               14.110475       85.889525"
      ]
     },
     "execution_count": 481,
     "metadata": {},
     "output_type": "execute_result"
    }
   ],
   "source": [
    "Table2=pd.crosstab(index= filt2.Country, \n",
    "            columns= filt2.Remote_percent, \n",
    "            values= filt2.Country, \n",
    "            aggfunc = len, \n",
    "            margins=True,\n",
    "            margins_name='Total',\n",
    "            normalize= 'index').mul(100)\n",
    "Table2"
   ]
  },
  {
   "cell_type": "code",
   "execution_count": 482,
   "metadata": {},
   "outputs": [
    {
     "data": {
      "image/png": "[encoded data removed]",
      "text/plain": [
       "<Figure size 432x288 with 1 Axes>"
      ]
     },
     "metadata": {
      "needs_background": "light"
     },
     "output_type": "display_data"
    }
   ],
   "source": [
    "Remote2=Table2[\"Half and more\"]\n",
    "Remote2.plot(kind='bar')\n",
    "plt.title(\"What percentage of Western Europe works from home?\");\n",
    "plt.ylabel('Percentage');"
   ]
  },
  {
   "cell_type": "markdown",
   "metadata": {},
   "source": [
    "Evaluation: Although the average of the Western European countries is less than the worldwide and Top 10 averages, one can clearly notice that some, e.g. Italy and Finland are well above the averages. It is therefore safe to say that Western Europe cannot be used to predict if less than average remote work is done. What may be possible to say that someone from Sweden is less likely to work from home, or remotely, than someone from Finland.\n",
    "\n",
    "It will be interesting to see after Covid-19, how the percentages will be affected.\n"
   ]
  },
  {
   "cell_type": "markdown",
   "metadata": {},
   "source": [
    "# 5. Modeling\n",
    "\n",
    "Seeing that machine learning models can only use numeric data, we will use the 1/0 method to change the datatype, for the columns that we will use, to 1's and 0's. First, we will look at the aggregated numbers of EmploymentStatus boken down into the 2 columns of Remote_percent to see if we can see a relation between the two."
   ]
  },
  {
   "cell_type": "code",
   "execution_count": 483,
   "metadata": {},
   "outputs": [
    {
     "data": {
      "text/html": [
       "<div>\n",
       "<style scoped>\n",
       "    .dataframe tbody tr th:only-of-type {\n",
       "        vertical-align: middle;\n",
       "    }\n",
       "\n",
       "    .dataframe tbody tr th {\n",
       "        vertical-align: top;\n",
       "    }\n",
       "\n",
       "    .dataframe thead th {\n",
       "        text-align: right;\n",
       "    }\n",
       "</style>\n",
       "<table border=\"1\" class=\"dataframe\">\n",
       "  <thead>\n",
       "    <tr style=\"text-align: right;\">\n",
       "      <th></th>\n",
       "      <th></th>\n",
       "      <th>size</th>\n",
       "    </tr>\n",
       "    <tr>\n",
       "      <th>Remote_percent</th>\n",
       "      <th>EmploymentStatus</th>\n",
       "      <th></th>\n",
       "    </tr>\n",
       "  </thead>\n",
       "  <tbody>\n",
       "    <tr>\n",
       "      <th rowspan=\"3\" valign=\"top\">Half and more</th>\n",
       "      <th>Employed full-time</th>\n",
       "      <td>4397</td>\n",
       "    </tr>\n",
       "    <tr>\n",
       "      <th>Employed part-time</th>\n",
       "      <td>799</td>\n",
       "    </tr>\n",
       "    <tr>\n",
       "      <th>Independent contractor, freelancer, or self-employed</th>\n",
       "      <td>3381</td>\n",
       "    </tr>\n",
       "    <tr>\n",
       "      <th rowspan=\"3\" valign=\"top\">Less than half</th>\n",
       "      <th>Employed full-time</th>\n",
       "      <td>31751</td>\n",
       "    </tr>\n",
       "    <tr>\n",
       "      <th>Employed part-time</th>\n",
       "      <td>2381</td>\n",
       "    </tr>\n",
       "    <tr>\n",
       "      <th>Independent contractor, freelancer, or self-employed</th>\n",
       "      <td>1852</td>\n",
       "    </tr>\n",
       "  </tbody>\n",
       "</table>\n",
       "</div>"
      ],
      "text/plain": [
       "                                                                    size\n",
       "Remote_percent EmploymentStatus                                         \n",
       "Half and more  Employed full-time                                   4397\n",
       "               Employed part-time                                    799\n",
       "               Independent contractor, freelancer, or self-emp...   3381\n",
       "Less than half Employed full-time                                  31751\n",
       "               Employed part-time                                   2381\n",
       "               Independent contractor, freelancer, or self-emp...   1852"
      ]
     },
     "execution_count": 483,
     "metadata": {},
     "output_type": "execute_result"
    }
   ],
   "source": [
    "#We group the two columns and break Remote percent\n",
    "df_emp_filt.groupby(['Remote_percent', 'EmploymentStatus']).size().to_frame('size')\n",
    "#df_emp_filt.info()#head()                                                                                         "
   ]
  },
  {
   "cell_type": "code",
   "execution_count": 492,
   "metadata": {},
   "outputs": [
    {
     "data": {
      "image/png": "[encoded data removed]",
      "text/plain": [
       "<Figure size 432x288 with 1 Axes>"
      ]
     },
     "metadata": {
      "needs_background": "light"
     },
     "output_type": "display_data"
    }
   ],
   "source": [
    "#We can make a graph of the above figures\n",
    "Emp_graph=df_emp_filt.groupby(['Remote_percent', 'EmploymentStatus']).size().to_frame('size')\n",
    "Emp_graph.plot(kind='bar')\n",
    "plt.title(\"What percentage of EmploymentStatus work from home?\");\n",
    "plt.ylabel('Percentage');"
   ]
  },
  {
   "cell_type": "markdown",
   "metadata": {},
   "source": [
    "From the above we can see that a bigger part of the 'Independent contractor, freelancer, or self-employed' group falls in the remote worker group (more than half), while the larger part of the 'Employed full-time' group falls into the group that does not work remotely. With EmploymentStatus, therefore, we can make the hypothesis that it seems as if it can be used to predict remote work."
   ]
  },
  {
   "cell_type": "markdown",
   "metadata": {},
   "source": [
    "We will use a linear model. Seeing that models can only use numeric data, we will use the 1/0 method on the categorical columns to dummy columns and populate them with 1's and 0's. First, we will have a look to see what data type our columns are. All four of the columns are of the object data type, therefore we create dummy columns and values for them. "
   ]
  },
  {
   "cell_type": "code",
   "execution_count": null,
   "metadata": {},
   "outputs": [],
   "source": [
    "df_emp_filt.info()"
   ]
  },
  {
   "cell_type": "code",
   "execution_count": null,
   "metadata": {},
   "outputs": [],
   "source": [
    "'''\n",
    "        INPUT - df - pandas dataframe df_emp_filt\n",
    "            \n",
    "        OUTPUT - \n",
    "            A new dataframe df_dummies_full that contains the dummy columns as well as the object type columns\n",
    "            Three columns gets dummies: Remote_percent,EmploymentStatus, CompanySize\n",
    "            Dummy columns with unique values as headings with the original name as prefix  \n",
    "            The new datatype should be uint8\n",
    "            \n",
    "'''\n",
    "#We use the get get_dummies method to \n",
    "df_dummies_full=pd.get_dummies(df_emp_filt, columns=['Remote_percent','EmploymentStatus','CompanySize'], prefix=('Remote_percent','EmploymentStatus','CompanySize'), prefix_sep='_')#, drop_first=True)\n",
    "\n",
    "# We look at the data to see the new columns that are created\n",
    "df_dummies_full.info() "
   ]
  },
  {
   "cell_type": "markdown",
   "metadata": {},
   "source": [
    "We notice from the query above that the dummy columns have been created correctly with the correct numerical datatype of uint8.We also notice that the NA values have been filled, which is in order for our study."
   ]
  },
  {
   "cell_type": "markdown",
   "metadata": {},
   "source": [
    "We now create a new dataframe that only contain the numerical datatype uint8 for our model."
   ]
  },
  {
   "cell_type": "code",
   "execution_count": null,
   "metadata": {},
   "outputs": [],
   "source": [
    "#Create a new df uint_df that only contain the numerical datatype uint8.\n",
    "uint_df = df_dummies_full.select_dtypes(include=['uint8'])\n",
    "\n",
    "# We look at the data to see that only dummy columns remain in the newly created df uint_df\n",
    "uint_df.info()"
   ]
  },
  {
   "cell_type": "code",
   "execution_count": null,
   "metadata": {},
   "outputs": [],
   "source": [
    "#Split your data into explanatory and response variables or into an X matrix and a response vector y\n",
    "y = uint_df[['Remote_percent_Half and more','Remote_percent_Less than half']]\n",
    "X = uint_df.drop(['Remote_percent_Half and more','Remote_percent_Less than half'], axis=1)#, inplace=True)"
   ]
  },
  {
   "cell_type": "markdown",
   "metadata": {},
   "source": [
    "We have a quick look at our y values to ensure that it's correct:"
   ]
  },
  {
   "cell_type": "code",
   "execution_count": null,
   "metadata": {},
   "outputs": [],
   "source": [
    "y.head()"
   ]
  },
  {
   "cell_type": "markdown",
   "metadata": {},
   "source": [
    "In the next six lines of code, we will run the statistical model and print out the results:"
   ]
  },
  {
   "cell_type": "code",
   "execution_count": null,
   "metadata": {},
   "outputs": [],
   "source": [
    " '''\n",
    "    INPUT:\n",
    "    df - a dataframe holding all the variables of interest of Dtyoe uint8\n",
    "    test_size - a float between [0,1] about what proportion of data should be in the test dataset\n",
    "    rand_state - an int that is provided as the random state for splitting the data into training and test \n",
    "    \n",
    "    OUTPUT:\n",
    "    test_score - float - r2 score on the test data\n",
    "    train_score - float - r2 score on the test data\n",
    "    lm_model - model object from sklearn\n",
    "    X_train, X_test, y_train, y_test - output from sklearn train test split used for optimal model\n",
    "    \n",
    "    The lines of code below should:\n",
    "\n",
    "    1. Create training and test sets of data\n",
    "    2. Instantiate a LinearRegression model with normalized data\n",
    "    3. Fit your model to the training data\n",
    "    4. Predict the response for the training data and the test data\n",
    "    5. Obtain an rsquared value for both the training and test data\n",
    "    6. Print the scores\n",
    " '''\n",
    "# Create training and test sets of data\n",
    "X_train, X_test, y_train, y_test = train_test_split(X, y, test_size = .30, random_state=42)\n",
    "                                                    \n",
    "#Instantiate\n",
    "lm_model = LinearRegression(normalize=True) \n",
    "\n",
    "#Fitthe model\n",
    "lm_model.fit(X_train, y_train) \n",
    "\n",
    "#Predict using our model\n",
    "y_test_preds = lm_model.predict(X_test)\n",
    "y_train_preds = lm_model.predict(X_train)\n",
    "\n",
    "#Score using our model\n",
    "test_score = r2_score(y_test, y_test_preds)\n",
    "train_score = r2_score(y_train, y_train_preds)\n",
    "\n",
    "#Print training and testing score\n",
    "print(\"The rsquared on the training data was {}.  The rsquared on the test data was {}.\".format(train_score, test_score))"
   ]
  },
  {
   "cell_type": "markdown",
   "metadata": {},
   "source": [
    "Let us see if we can get a better score by focusing on the EmploymentStatus only as we noticed before that there seems to be a relationship."
   ]
  },
  {
   "cell_type": "code",
   "execution_count": null,
   "metadata": {},
   "outputs": [],
   "source": [
    "df_dummies_full=pd.get_dummies(df_emp_filt, columns=['Remote_percent','EmploymentStatus'], prefix=('Remote_percent','EmploymentStatus'), prefix_sep='_')#, drop_first=True)\n",
    "df_dummies_full.info()"
   ]
  },
  {
   "cell_type": "code",
   "execution_count": null,
   "metadata": {},
   "outputs": [],
   "source": [
    "uint_df = df_dummies_full.select_dtypes(include=['uint8'])\n",
    "uint_df.info()"
   ]
  },
  {
   "cell_type": "code",
   "execution_count": null,
   "metadata": {},
   "outputs": [],
   "source": [
    " '''\n",
    " \n",
    "    INPUT:\n",
    "    uint_df - a dataframe holding all the variables of interest of Dtyoe uint8\n",
    "    test_size - a float between [0,1] about what proportion of data should be in the test dataset\n",
    "    rand_state - an int that is provided as the random state for splitting the data into training and test \n",
    "    \n",
    "    OUTPUT:\n",
    "    test_score - float - r2 score on the test data\n",
    "    train_score - float - r2 score on the training data\n",
    "    lm_model - model object from sklearn\n",
    "    X_train, X_test, y_train, y_test - output from sklearn train test split used for optimal model\n",
    "    \n",
    "    The lines of code below should:\n",
    "\n",
    "    1. Split our data into an X matrix and a response vector y\n",
    "    2. Create training and test sets of data\n",
    "    3. Instantiate a LinearRegression model with normalized data\n",
    "    4. Fit your model to the training data\n",
    "    5. Predict the response for the training data and the test data\n",
    "    6. Obtain an rsquared value for both the training and test data\n",
    "    7. Print the scores\n",
    " '''\n",
    "#Split into explanatory(X) and response(y) variables\n",
    "y = uint_df[['Remote_percent_Half and more','Remote_percent_Less than half']]\n",
    "X = uint_df.drop(['Remote_percent_Half and more','Remote_percent_Less than half'], axis=1)#, inplace=True)\n",
    "\n",
    "#Split into train and test Create training and test sets of data\n",
    "X_train, X_test, y_train, y_test = train_test_split(X, y, test_size = .30, random_state=42)\n",
    "                                                    \n",
    "#Instantiate\n",
    "lm_model = LinearRegression(normalize=True) \n",
    "\n",
    "#Fitthe model\n",
    "lm_model.fit(X_train, y_train) \n",
    "\n",
    "#Predict using our model\n",
    "y_test_preds = lm_model.predict(X_test)\n",
    "y_train_preds = lm_model.predict(X_train)\n",
    "\n",
    "#Score using our model\n",
    "test_score = r2_score(y_test, y_test_preds)\n",
    "train_score = r2_score(y_train, y_train_preds)\n",
    "\n",
    "#Print training and testing score\n",
    "print(\"The rsquared on the training data was {}.  The rsquared on the test data was {}.\".format(train_score, test_score))"
   ]
  },
  {
   "cell_type": "markdown",
   "metadata": {},
   "source": [
    "In conclusion, we can see that we get a slightly better score when we add CompanySize to EmploymentStatus in our model. If we add too many we will most likely be overfitting, therefore it is important to find the most applicable columns to prodict the response."
   ]
  }
 ],
 "metadata": {
  "kernelspec": {
   "display_name": "Python 3",
   "language": "python",
   "name": "python3"
  },
  "language_info": {
   "codemirror_mode": {
    "name": "ipython",
    "version": 3
   },
   "file_extension": ".py",
   "mimetype": "text/x-python",
   "name": "python",
   "nbconvert_exporter": "python",
   "pygments_lexer": "ipython3",
   "version": "3.8.5"
  }
 },
 "nbformat": 4,
 "nbformat_minor": 2
}
